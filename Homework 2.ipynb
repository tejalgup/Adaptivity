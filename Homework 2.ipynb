{
 "cells": [
  {
   "cell_type": "code",
   "execution_count": 74,
   "id": "361b045a",
   "metadata": {},
   "outputs": [
    {
     "ename": "ModuleNotFoundError",
     "evalue": "No module named 'sklearn'",
     "output_type": "error",
     "traceback": [
      "\u001b[1;31m---------------------------------------------------------------------------\u001b[0m",
      "\u001b[1;31mModuleNotFoundError\u001b[0m                       Traceback (most recent call last)",
      "\u001b[1;32m<ipython-input-74-b0246758f3de>\u001b[0m in \u001b[0;36m<module>\u001b[1;34m\u001b[0m\n\u001b[0;32m      2\u001b[0m \u001b[1;32mimport\u001b[0m \u001b[0mpandas\u001b[0m \u001b[1;32mas\u001b[0m \u001b[0mpd\u001b[0m\u001b[1;33m\u001b[0m\u001b[1;33m\u001b[0m\u001b[0m\n\u001b[0;32m      3\u001b[0m \u001b[1;33m\u001b[0m\u001b[0m\n\u001b[1;32m----> 4\u001b[1;33m \u001b[1;32mfrom\u001b[0m \u001b[0msklearn\u001b[0m \u001b[1;32mimport\u001b[0m \u001b[0mpreprocessing\u001b[0m\u001b[1;33m\u001b[0m\u001b[1;33m\u001b[0m\u001b[0m\n\u001b[0m",
      "\u001b[1;31mModuleNotFoundError\u001b[0m: No module named 'sklearn'"
     ]
    }
   ],
   "source": [
    "import numpy as np\n",
    "import pandas as pd\n",
    "\n",
    "from sklearn import preprocessing"
   ]
  },
  {
   "cell_type": "code",
   "execution_count": null,
   "id": "10b5f9d7",
   "metadata": {},
   "outputs": [],
   "source": [
    "\n",
    "data = pd.read_csv('online_adapt.csv')\n",
    "\n",
    "data['Adaptivity Level'].value_counts()\n",
    "\n"
   ]
  },
  {
   "cell_type": "code",
   "execution_count": null,
   "id": "e3332df9",
   "metadata": {},
   "outputs": [],
   "source": [
    "data['Education Level'].value_counts()\n"
   ]
  },
  {
   "cell_type": "code",
   "execution_count": null,
   "id": "e7a0e977",
   "metadata": {},
   "outputs": [],
   "source": [
    "def vc(df):\n",
    "    for col in df.columns:\n",
    "        print(data[col].unique())\n",
    "\n",
    "vc(data)\n"
   ]
  },
  {
   "cell_type": "code",
   "execution_count": null,
   "id": "ee89ca5a",
   "metadata": {},
   "outputs": [],
   "source": [
    "#Ordinals: Age, Load-shedding, Financial Condition, Network Type, Adaptivity Levels\n",
    "\n",
    "scale_mapper = {\"1-5\":1, \"6-10\":2, \"11-15\":3, \"16-20\":4, \"21-25\":5, \n",
    "                                  \"26-30\":6}\n",
    "data[\"Age\"].replace(scale_mapper)"
   ]
  },
  {
   "cell_type": "code",
   "execution_count": null,
   "id": "355f47b6",
   "metadata": {},
   "outputs": [],
   "source": [
    "#Ordinals: Age, Load-shedding, Financial Condition, Network Type, Adaptivity Levels\n",
    "\n",
    "scale_mapper1 = {\"4G\":4, \"3G\":3, \"2G\":2}\n",
    "data[\"Network Type\"].replace(scale_mapper1)"
   ]
  },
  {
   "cell_type": "code",
   "execution_count": null,
   "id": "05da49b1",
   "metadata": {},
   "outputs": [],
   "source": [
    "scale_mapper2 = {\"3-6\":2, \"1-3\":1, \"0\":0}\n",
    "data[\"Class Duration\"].replace(scale_mapper1)"
   ]
  },
  {
   "cell_type": "code",
   "execution_count": null,
   "id": "dd481721",
   "metadata": {},
   "outputs": [],
   "source": [
    "from sklearn import preprocessing\n",
    "\n",
    "def vc1(df):\n",
    "    for col in df.columns:\n",
    "        if (col == 'Age') and (col == 'Network Type') and (col == 'Class Duration'):\n",
    "            data1 = data.drop(col)\n",
    "        \n",
    "            \n",
    "    pd.get_dummies(data1, axis = 1)\n",
    "            \n",
    "data1 = vc1(data)"
   ]
  },
  {
   "cell_type": "code",
   "execution_count": null,
   "id": "79c098f8",
   "metadata": {},
   "outputs": [],
   "source": [
    "def vc2(df):\n",
    "    for col in df.columns:\n",
    "        scaler_MinMax = preprocessing.MinMaxScaler(feature_range=(0,1))\n",
    "        age_MinMax = scaler_MinMax.fit_transform(data[col])\n",
    "        \n",
    "data2 = vc2(data1)"
   ]
  },
  {
   "cell_type": "code",
   "execution_count": 75,
   "id": "f6fc13c9",
   "metadata": {},
   "outputs": [
    {
     "ename": "NameError",
     "evalue": "name 'preprocessing' is not defined",
     "output_type": "error",
     "traceback": [
      "\u001b[1;31m---------------------------------------------------------------------------\u001b[0m",
      "\u001b[1;31mNameError\u001b[0m                                 Traceback (most recent call last)",
      "\u001b[1;32m<ipython-input-75-03483ba731b2>\u001b[0m in \u001b[0;36m<module>\u001b[1;34m\u001b[0m\n\u001b[1;32m----> 1\u001b[1;33m \u001b[0mscaler2\u001b[0m \u001b[1;33m=\u001b[0m \u001b[0mpreprocessing\u001b[0m\u001b[1;33m.\u001b[0m\u001b[0mStandardScaler\u001b[0m\u001b[1;33m(\u001b[0m\u001b[1;33m)\u001b[0m\u001b[1;33m\u001b[0m\u001b[1;33m\u001b[0m\u001b[0m\n\u001b[0m\u001b[0;32m      2\u001b[0m \u001b[1;33m\u001b[0m\u001b[0m\n\u001b[0;32m      3\u001b[0m \u001b[1;31m# Transform the feature\u001b[0m\u001b[1;33m\u001b[0m\u001b[1;33m\u001b[0m\u001b[1;33m\u001b[0m\u001b[0m\n\u001b[0;32m      4\u001b[0m \u001b[0mdata3\u001b[0m \u001b[1;33m=\u001b[0m \u001b[0mdata2\u001b[0m\u001b[1;33m.\u001b[0m\u001b[0mfit_transform\u001b[0m\u001b[1;33m(\u001b[0m\u001b[0mdataframe2\u001b[0m\u001b[1;33m)\u001b[0m\u001b[1;33m\u001b[0m\u001b[1;33m\u001b[0m\u001b[0m\n",
      "\u001b[1;31mNameError\u001b[0m: name 'preprocessing' is not defined"
     ]
    }
   ],
   "source": [
    "scaler2 = preprocessing.StandardScaler()\n",
    "\n",
    "# Transform the feature\n",
    "data3 = scaler2.fit_transform(data2)"
   ]
  },
  {
   "cell_type": "code",
   "execution_count": 76,
   "id": "65ff007c",
   "metadata": {},
   "outputs": [
    {
     "ename": "SyntaxError",
     "evalue": "invalid syntax (<ipython-input-76-2c328baaeaa0>, line 1)",
     "output_type": "error",
     "traceback": [
      "\u001b[1;36m  File \u001b[1;32m\"<ipython-input-76-2c328baaeaa0>\"\u001b[1;36m, line \u001b[1;32m1\u001b[0m\n\u001b[1;33m    while\u001b[0m\n\u001b[1;37m          ^\u001b[0m\n\u001b[1;31mSyntaxError\u001b[0m\u001b[1;31m:\u001b[0m invalid syntax\n"
     ]
    }
   ],
   "source": [
    "def vc3(df):\n",
    "    for col in df.columns:\n",
    "        return col\n",
    "while vc3[data3].mean() = 0 and vc3[dataframe3].std() = 1:\n",
    "    dataframe3['Age'].mean()\n",
    "    print('verified')"
   ]
  },
  {
   "cell_type": "code",
   "execution_count": null,
   "id": "f3ced9b4",
   "metadata": {},
   "outputs": [],
   "source": [
    "# Create scaler\n",
    "scaler3 = preprocessing.RobustScaler()\n",
    "\n",
    "# Transform the feature\n",
    "data4 = scaler3.fit_transform(data3[['Age']])"
   ]
  },
  {
   "cell_type": "code",
   "execution_count": null,
   "id": "bf9a0a54",
   "metadata": {},
   "outputs": [],
   "source": [
    "df = pd.DataFrame(data4)\n",
    "\n",
    "fun med(x):\n",
    "    return x.mean()\n",
    "\n",
    "# Apply function\n",
    "df.apply(med)"
   ]
  },
  {
   "cell_type": "code",
   "execution_count": null,
   "id": "1ad161aa",
   "metadata": {},
   "outputs": [],
   "source": [
    "# Create normalizer\n",
    "normalizer1 = Normalizer(norm=\"l1\")\n",
    "\n",
    "# Transform feature matrix\n",
    "data5 = normalizer1.transform(data1)\n"
   ]
  },
  {
   "cell_type": "code",
   "execution_count": null,
   "id": "adabad52",
   "metadata": {},
   "outputs": [],
   "source": [
    "import numpy as np\n",
    "data_miss = data\n",
    "data_miss['Education Level'].iloc[0] = np.nan"
   ]
  },
  {
   "cell_type": "code",
   "execution_count": null,
   "id": "7825fae4",
   "metadata": {},
   "outputs": [],
   "source": [
    "# Create imputer\n",
    "mean_imputer = SimpleImputer(strategy=\"mean\")\n",
    "\n",
    "# Impute values\n",
    "features_mean_imputed = mean_imputer.fit_transform(data_miss)\n",
    "\n",
    "# Compare true and imputed values\n",
    "print(\"True Value:\", true_value)\n",
    "print(\"Imputed Value:\", features_mean_imputed[0,0])"
   ]
  }
 ],
 "metadata": {
  "kernelspec": {
   "display_name": "Python 3",
   "language": "python",
   "name": "python3"
  },
  "language_info": {
   "codemirror_mode": {
    "name": "ipython",
    "version": 3
   },
   "file_extension": ".py",
   "mimetype": "text/x-python",
   "name": "python",
   "nbconvert_exporter": "python",
   "pygments_lexer": "ipython3",
   "version": "3.7.11"
  }
 },
 "nbformat": 4,
 "nbformat_minor": 5
}
