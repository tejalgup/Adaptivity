{
 "cells": [
  {
   "cell_type": "code",
   "execution_count": 104,
   "id": "410bb894",
   "metadata": {},
   "outputs": [],
   "source": [
    "import numpy as np\n",
    "import pandas as pd\n",
    "\n",
    "from sklearn import preprocessing"
   ]
  },
  {
   "cell_type": "code",
   "execution_count": 105,
   "id": "275cdb46",
   "metadata": {},
   "outputs": [
    {
     "data": {
      "text/plain": [
       "Moderate    625\n",
       "Low         480\n",
       "High        100\n",
       "Name: Adaptivity Level, dtype: int64"
      ]
     },
     "execution_count": 105,
     "metadata": {},
     "output_type": "execute_result"
    }
   ],
   "source": [
    "data = pd.read_csv('online_adapt.csv')\n",
    "\n",
    "data['Adaptivity Level'].value_counts()"
   ]
  },
  {
   "cell_type": "code",
   "execution_count": 106,
   "id": "24f6c1fe",
   "metadata": {},
   "outputs": [
    {
     "data": {
      "text/plain": [
       "School        530\n",
       "University    456\n",
       "College       219\n",
       "Name: Education Level, dtype: int64"
      ]
     },
     "execution_count": 106,
     "metadata": {},
     "output_type": "execute_result"
    }
   ],
   "source": [
    "data['Education Level'].value_counts()\n"
   ]
  },
  {
   "cell_type": "code",
   "execution_count": 107,
   "id": "72822ef3",
   "metadata": {},
   "outputs": [
    {
     "name": "stdout",
     "output_type": "stream",
     "text": [
      "['Boy' 'Girl']\n",
      "['21-25' '16-20' '11-15' '26-30' '6-10' '1-5']\n",
      "['University' 'College' 'School']\n",
      "['Non Government' 'Government']\n",
      "['No' 'Yes']\n",
      "['Yes' 'No']\n",
      "['Low' 'High']\n",
      "['Mid' 'Poor' 'Rich']\n",
      "['Wifi' 'Mobile Data']\n",
      "['4G' '3G' '2G']\n",
      "['3-6' '1-3' '0']\n",
      "['No' 'Yes']\n",
      "['Tab' 'Mobile' 'Computer']\n",
      "['Moderate' 'Low' 'High']\n"
     ]
    }
   ],
   "source": [
    "def vc(df):\n",
    "    for col in df.columns:\n",
    "        print(data[col].unique())\n",
    "\n",
    "vc(data)"
   ]
  },
  {
   "cell_type": "code",
   "execution_count": 108,
   "id": "ceaca855",
   "metadata": {},
   "outputs": [],
   "source": [
    "#Ordinals: Age, Load-shedding, Financial Condition, Network Type, Adaptivity Levels\n",
    "\n",
    "scale_mapper = {\"1-5\":1, \"6-10\":2, \"11-15\":3, \"16-20\":4, \"21-25\":5, \"26-30\":6}\n",
    "\n",
    "age = data[\"Age\"].replace(scale_mapper)\n",
    "age = pd.DataFrame(age)"
   ]
  },
  {
   "cell_type": "code",
   "execution_count": 109,
   "id": "d5eec083",
   "metadata": {},
   "outputs": [],
   "source": [
    "#Ordinals: Age, Load-shedding, Financial Condition, Network Type, Adaptivity Levels\n",
    "\n",
    "scale_mapper1 = {\"4G\":4, \"3G\":3, \"2G\":2}\n",
    "nt = data[\"Network Type\"].replace(scale_mapper1)"
   ]
  },
  {
   "cell_type": "code",
   "execution_count": 110,
   "id": "3e5b5f01",
   "metadata": {},
   "outputs": [],
   "source": [
    "scale_mapper2 = {\"3-6\":2, \"1-3\":1, \"0\":0}\n",
    "cd = data[\"Class Duration\"].replace(scale_mapper2)"
   ]
  },
  {
   "cell_type": "code",
   "execution_count": 111,
   "id": "8567c946",
   "metadata": {},
   "outputs": [
    {
     "data": {
      "text/html": [
       "<div>\n",
       "<style scoped>\n",
       "    .dataframe tbody tr th:only-of-type {\n",
       "        vertical-align: middle;\n",
       "    }\n",
       "\n",
       "    .dataframe tbody tr th {\n",
       "        vertical-align: top;\n",
       "    }\n",
       "\n",
       "    .dataframe thead th {\n",
       "        text-align: right;\n",
       "    }\n",
       "</style>\n",
       "<table border=\"1\" class=\"dataframe\">\n",
       "  <thead>\n",
       "    <tr style=\"text-align: right;\">\n",
       "      <th></th>\n",
       "      <th>Gender_Boy</th>\n",
       "      <th>Gender_Girl</th>\n",
       "      <th>Education Level_College</th>\n",
       "      <th>Education Level_School</th>\n",
       "      <th>Education Level_University</th>\n",
       "      <th>Institution Type_Government</th>\n",
       "      <th>Institution Type_Non Government</th>\n",
       "      <th>IT Student_No</th>\n",
       "      <th>IT Student_Yes</th>\n",
       "      <th>Location_No</th>\n",
       "      <th>...</th>\n",
       "      <th>Internet Type_Mobile Data</th>\n",
       "      <th>Internet Type_Wifi</th>\n",
       "      <th>Self Lms_No</th>\n",
       "      <th>Self Lms_Yes</th>\n",
       "      <th>Device_Computer</th>\n",
       "      <th>Device_Mobile</th>\n",
       "      <th>Device_Tab</th>\n",
       "      <th>Age</th>\n",
       "      <th>Network Type</th>\n",
       "      <th>Class Duration</th>\n",
       "    </tr>\n",
       "  </thead>\n",
       "  <tbody>\n",
       "    <tr>\n",
       "      <th>0</th>\n",
       "      <td>1</td>\n",
       "      <td>0</td>\n",
       "      <td>0</td>\n",
       "      <td>0</td>\n",
       "      <td>1</td>\n",
       "      <td>0</td>\n",
       "      <td>1</td>\n",
       "      <td>1</td>\n",
       "      <td>0</td>\n",
       "      <td>0</td>\n",
       "      <td>...</td>\n",
       "      <td>0</td>\n",
       "      <td>1</td>\n",
       "      <td>1</td>\n",
       "      <td>0</td>\n",
       "      <td>0</td>\n",
       "      <td>0</td>\n",
       "      <td>1</td>\n",
       "      <td>5</td>\n",
       "      <td>4</td>\n",
       "      <td>2</td>\n",
       "    </tr>\n",
       "    <tr>\n",
       "      <th>1</th>\n",
       "      <td>0</td>\n",
       "      <td>1</td>\n",
       "      <td>0</td>\n",
       "      <td>0</td>\n",
       "      <td>1</td>\n",
       "      <td>0</td>\n",
       "      <td>1</td>\n",
       "      <td>1</td>\n",
       "      <td>0</td>\n",
       "      <td>0</td>\n",
       "      <td>...</td>\n",
       "      <td>1</td>\n",
       "      <td>0</td>\n",
       "      <td>0</td>\n",
       "      <td>1</td>\n",
       "      <td>0</td>\n",
       "      <td>1</td>\n",
       "      <td>0</td>\n",
       "      <td>5</td>\n",
       "      <td>4</td>\n",
       "      <td>1</td>\n",
       "    </tr>\n",
       "    <tr>\n",
       "      <th>2</th>\n",
       "      <td>0</td>\n",
       "      <td>1</td>\n",
       "      <td>1</td>\n",
       "      <td>0</td>\n",
       "      <td>0</td>\n",
       "      <td>1</td>\n",
       "      <td>0</td>\n",
       "      <td>1</td>\n",
       "      <td>0</td>\n",
       "      <td>0</td>\n",
       "      <td>...</td>\n",
       "      <td>0</td>\n",
       "      <td>1</td>\n",
       "      <td>1</td>\n",
       "      <td>0</td>\n",
       "      <td>0</td>\n",
       "      <td>1</td>\n",
       "      <td>0</td>\n",
       "      <td>4</td>\n",
       "      <td>4</td>\n",
       "      <td>1</td>\n",
       "    </tr>\n",
       "    <tr>\n",
       "      <th>3</th>\n",
       "      <td>0</td>\n",
       "      <td>1</td>\n",
       "      <td>0</td>\n",
       "      <td>1</td>\n",
       "      <td>0</td>\n",
       "      <td>0</td>\n",
       "      <td>1</td>\n",
       "      <td>1</td>\n",
       "      <td>0</td>\n",
       "      <td>0</td>\n",
       "      <td>...</td>\n",
       "      <td>1</td>\n",
       "      <td>0</td>\n",
       "      <td>1</td>\n",
       "      <td>0</td>\n",
       "      <td>0</td>\n",
       "      <td>1</td>\n",
       "      <td>0</td>\n",
       "      <td>3</td>\n",
       "      <td>4</td>\n",
       "      <td>1</td>\n",
       "    </tr>\n",
       "    <tr>\n",
       "      <th>4</th>\n",
       "      <td>0</td>\n",
       "      <td>1</td>\n",
       "      <td>0</td>\n",
       "      <td>1</td>\n",
       "      <td>0</td>\n",
       "      <td>0</td>\n",
       "      <td>1</td>\n",
       "      <td>1</td>\n",
       "      <td>0</td>\n",
       "      <td>0</td>\n",
       "      <td>...</td>\n",
       "      <td>1</td>\n",
       "      <td>0</td>\n",
       "      <td>1</td>\n",
       "      <td>0</td>\n",
       "      <td>0</td>\n",
       "      <td>1</td>\n",
       "      <td>0</td>\n",
       "      <td>4</td>\n",
       "      <td>3</td>\n",
       "      <td>0</td>\n",
       "    </tr>\n",
       "  </tbody>\n",
       "</table>\n",
       "<p>5 rows × 26 columns</p>\n",
       "</div>"
      ],
      "text/plain": [
       "   Gender_Boy  Gender_Girl  Education Level_College  Education Level_School  \\\n",
       "0           1            0                        0                       0   \n",
       "1           0            1                        0                       0   \n",
       "2           0            1                        1                       0   \n",
       "3           0            1                        0                       1   \n",
       "4           0            1                        0                       1   \n",
       "\n",
       "   Education Level_University  Institution Type_Government  \\\n",
       "0                           1                            0   \n",
       "1                           1                            0   \n",
       "2                           0                            1   \n",
       "3                           0                            0   \n",
       "4                           0                            0   \n",
       "\n",
       "   Institution Type_Non Government  IT Student_No  IT Student_Yes  \\\n",
       "0                                1              1               0   \n",
       "1                                1              1               0   \n",
       "2                                0              1               0   \n",
       "3                                1              1               0   \n",
       "4                                1              1               0   \n",
       "\n",
       "   Location_No  ...  Internet Type_Mobile Data  Internet Type_Wifi  \\\n",
       "0            0  ...                          0                   1   \n",
       "1            0  ...                          1                   0   \n",
       "2            0  ...                          0                   1   \n",
       "3            0  ...                          1                   0   \n",
       "4            0  ...                          1                   0   \n",
       "\n",
       "   Self Lms_No  Self Lms_Yes  Device_Computer  Device_Mobile  Device_Tab  Age  \\\n",
       "0            1             0                0              0           1    5   \n",
       "1            0             1                0              1           0    5   \n",
       "2            1             0                0              1           0    4   \n",
       "3            1             0                0              1           0    3   \n",
       "4            1             0                0              1           0    4   \n",
       "\n",
       "   Network Type  Class Duration  \n",
       "0             4               2  \n",
       "1             4               1  \n",
       "2             4               1  \n",
       "3             4               1  \n",
       "4             3               0  \n",
       "\n",
       "[5 rows x 26 columns]"
      ]
     },
     "execution_count": 111,
     "metadata": {},
     "output_type": "execute_result"
    }
   ],
   "source": [
    "data1 = pd.get_dummies(data.drop(['Age', 'Network Type', 'Class Duration', 'Adaptivity Level'],axis=1))\n",
    "data1 = pd.concat([data1, age, nt, cd], axis=1)\n",
    "data1[:5]"
   ]
  },
  {
   "cell_type": "code",
   "execution_count": 112,
   "id": "7f31dc11",
   "metadata": {},
   "outputs": [
    {
     "data": {
      "text/plain": [
       "array([[1. ],\n",
       "       [0.5],\n",
       "       [0.5],\n",
       "       [0.5],\n",
       "       [0. ]])"
      ]
     },
     "execution_count": 112,
     "metadata": {},
     "output_type": "execute_result"
    }
   ],
   "source": [
    "data1 = pd.DataFrame(data1)\n",
    "\n",
    "for col in data1.columns:\n",
    "    scaler_MinMax = preprocessing.MinMaxScaler(feature_range=(0,1))\n",
    "    data2 = scaler_MinMax.fit_transform(data1[[col]])\n",
    "data2[:5]"
   ]
  },
  {
   "cell_type": "code",
   "execution_count": 113,
   "id": "02487a6a",
   "metadata": {},
   "outputs": [],
   "source": [
    "scaler2 = preprocessing.StandardScaler()\n",
    "# Transform the feature\n",
    "data3 = scaler2.fit_transform(data2)"
   ]
  },
  {
   "cell_type": "code",
   "execution_count": 119,
   "id": "ec4ee033",
   "metadata": {},
   "outputs": [],
   "source": [
    "data3 = pd.DataFrame(data3)\n",
    "# Transform the feature\n",
    "for col in data3.columns:\n",
    "    scaler3 = preprocessing.RobustScaler()\n",
    "    data4 = scaler3.fit_transform(data3[[col]])\n"
   ]
  },
  {
   "cell_type": "code",
   "execution_count": 122,
   "id": "c6205d4c",
   "metadata": {},
   "outputs": [
    {
     "data": {
      "text/plain": [
       "0    0.086267\n",
       "dtype: float64"
      ]
     },
     "execution_count": 122,
     "metadata": {},
     "output_type": "execute_result"
    }
   ],
   "source": [
    "df = pd.DataFrame(data4)\n",
    "\n",
    "def med(x):\n",
    "    return x.mean()\n",
    "\n",
    "# Apply function\n",
    "df.apply(med)"
   ]
  },
  {
   "cell_type": "code",
   "execution_count": 124,
   "id": "30cb7779",
   "metadata": {},
   "outputs": [
    {
     "name": "stderr",
     "output_type": "stream",
     "text": [
      "C:\\Users\\hp\\AppData\\Roaming\\Python\\Python37\\site-packages\\sklearn\\base.py:444: UserWarning: X has feature names, but Normalizer was fitted without feature names\n",
      "  f\"X has feature names, but {self.__class__.__name__} was fitted without\"\n"
     ]
    }
   ],
   "source": [
    "from sklearn.preprocessing import Normalizer\n",
    "\n",
    "# Create normalizer\n",
    "normalizer1 = Normalizer(norm=\"l1\")\n",
    "\n",
    "# Transform feature matrix\n",
    "data5 = normalizer1.transform(data1)\n"
   ]
  },
  {
   "cell_type": "code",
   "execution_count": 125,
   "id": "f3cc8cac",
   "metadata": {},
   "outputs": [],
   "source": [
    "import numpy as np\n",
    "data_miss = data\n",
    "data_miss['Education Level'].iloc[0] = np.nan"
   ]
  }
 ],
 "metadata": {
  "kernelspec": {
   "display_name": "Python 3",
   "language": "python",
   "name": "python3"
  },
  "language_info": {
   "codemirror_mode": {
    "name": "ipython",
    "version": 3
   },
   "file_extension": ".py",
   "mimetype": "text/x-python",
   "name": "python",
   "nbconvert_exporter": "python",
   "pygments_lexer": "ipython3",
   "version": "3.7.11"
  }
 },
 "nbformat": 4,
 "nbformat_minor": 5
}
