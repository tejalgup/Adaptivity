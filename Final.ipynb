{
 "cells": [
  {
   "cell_type": "code",
   "execution_count": 1,
   "id": "ddb7899a",
   "metadata": {},
   "outputs": [],
   "source": [
    "import pandas as pd\n",
    "\n",
    "data = pd.read_csv('online_adapt.csv')\n",
    "\n",
    "# Encode `Age` to integers, 1, 2, 3, 4, 5, 6.\n",
    "age_mapper = {'26-30':6, '21-25':5, '16-20':4, '11-15':3, '6-10':2, '1-5':1}\n",
    "age_t = data['Age'].replace(age_mapper)\n",
    "\n",
    "# Encode `Network Type` to integers, 2, 3, 4.\n",
    "net_mapper = {'2G':2, '3G':3, '4G':4}\n",
    "net_t = data['Network Type'].replace(net_mapper)\n",
    "\n",
    "# Encode `Class Duration` to integers, 0, 1, 2.\n",
    "class_mapper = {'0':0, '1-3':1, '3-6':2}\n",
    "class_t = data['Class Duration'].replace(class_mapper)\n",
    "\n",
    "# Replace `Age`, `Network Type`, `Class Duration` by their corresponding numeric versions.\n",
    "data['Age'] = age_t\n",
    "data['Network Type'] = net_t\n",
    "data['Class Duration'] = class_t"
   ]
  },
  {
   "cell_type": "code",
   "execution_count": 2,
   "id": "6ef6fa26",
   "metadata": {},
   "outputs": [
    {
     "data": {
      "text/html": [
       "<div>\n",
       "<style scoped>\n",
       "    .dataframe tbody tr th:only-of-type {\n",
       "        vertical-align: middle;\n",
       "    }\n",
       "\n",
       "    .dataframe tbody tr th {\n",
       "        vertical-align: top;\n",
       "    }\n",
       "\n",
       "    .dataframe thead th {\n",
       "        text-align: right;\n",
       "    }\n",
       "</style>\n",
       "<table border=\"1\" class=\"dataframe\">\n",
       "  <thead>\n",
       "    <tr style=\"text-align: right;\">\n",
       "      <th></th>\n",
       "      <th>Age</th>\n",
       "      <th>Network Type</th>\n",
       "      <th>Class Duration</th>\n",
       "      <th>Gender_Boy</th>\n",
       "      <th>Gender_Girl</th>\n",
       "      <th>Education Level_College</th>\n",
       "      <th>Education Level_School</th>\n",
       "      <th>Education Level_University</th>\n",
       "      <th>Institution Type_Government</th>\n",
       "      <th>Institution Type_Non Government</th>\n",
       "      <th>...</th>\n",
       "      <th>Financial Condition_Mid</th>\n",
       "      <th>Financial Condition_Poor</th>\n",
       "      <th>Financial Condition_Rich</th>\n",
       "      <th>Internet Type_Mobile Data</th>\n",
       "      <th>Internet Type_Wifi</th>\n",
       "      <th>Self Lms_No</th>\n",
       "      <th>Self Lms_Yes</th>\n",
       "      <th>Device_Computer</th>\n",
       "      <th>Device_Mobile</th>\n",
       "      <th>Device_Tab</th>\n",
       "    </tr>\n",
       "  </thead>\n",
       "  <tbody>\n",
       "    <tr>\n",
       "      <th>0</th>\n",
       "      <td>5</td>\n",
       "      <td>4</td>\n",
       "      <td>2</td>\n",
       "      <td>1</td>\n",
       "      <td>0</td>\n",
       "      <td>0</td>\n",
       "      <td>0</td>\n",
       "      <td>1</td>\n",
       "      <td>0</td>\n",
       "      <td>1</td>\n",
       "      <td>...</td>\n",
       "      <td>1</td>\n",
       "      <td>0</td>\n",
       "      <td>0</td>\n",
       "      <td>0</td>\n",
       "      <td>1</td>\n",
       "      <td>1</td>\n",
       "      <td>0</td>\n",
       "      <td>0</td>\n",
       "      <td>0</td>\n",
       "      <td>1</td>\n",
       "    </tr>\n",
       "    <tr>\n",
       "      <th>1</th>\n",
       "      <td>5</td>\n",
       "      <td>4</td>\n",
       "      <td>1</td>\n",
       "      <td>0</td>\n",
       "      <td>1</td>\n",
       "      <td>0</td>\n",
       "      <td>0</td>\n",
       "      <td>1</td>\n",
       "      <td>0</td>\n",
       "      <td>1</td>\n",
       "      <td>...</td>\n",
       "      <td>1</td>\n",
       "      <td>0</td>\n",
       "      <td>0</td>\n",
       "      <td>1</td>\n",
       "      <td>0</td>\n",
       "      <td>0</td>\n",
       "      <td>1</td>\n",
       "      <td>0</td>\n",
       "      <td>1</td>\n",
       "      <td>0</td>\n",
       "    </tr>\n",
       "  </tbody>\n",
       "</table>\n",
       "<p>2 rows × 26 columns</p>\n",
       "</div>"
      ],
      "text/plain": [
       "   Age  Network Type  Class Duration  Gender_Boy  Gender_Girl  \\\n",
       "0    5             4               2           1            0   \n",
       "1    5             4               1           0            1   \n",
       "\n",
       "   Education Level_College  Education Level_School  \\\n",
       "0                        0                       0   \n",
       "1                        0                       0   \n",
       "\n",
       "   Education Level_University  Institution Type_Government  \\\n",
       "0                           1                            0   \n",
       "1                           1                            0   \n",
       "\n",
       "   Institution Type_Non Government  ...  Financial Condition_Mid  \\\n",
       "0                                1  ...                        1   \n",
       "1                                1  ...                        1   \n",
       "\n",
       "   Financial Condition_Poor  Financial Condition_Rich  \\\n",
       "0                         0                         0   \n",
       "1                         0                         0   \n",
       "\n",
       "   Internet Type_Mobile Data  Internet Type_Wifi  Self Lms_No  Self Lms_Yes  \\\n",
       "0                          0                   1            1             0   \n",
       "1                          1                   0            0             1   \n",
       "\n",
       "   Device_Computer  Device_Mobile  Device_Tab  \n",
       "0                0              0           1  \n",
       "1                0              1           0  \n",
       "\n",
       "[2 rows x 26 columns]"
      ]
     },
     "execution_count": 2,
     "metadata": {},
     "output_type": "execute_result"
    }
   ],
   "source": [
    "# One-hot encode the rest of the variables except for the response variable, `Adaptivity Level`.\n",
    "\n",
    "y = data['Adaptivity Level']\n",
    "data1 = pd.get_dummies(data.drop('Adaptivity Level', axis=1))\n",
    "data1.head(2)"
   ]
  },
  {
   "cell_type": "code",
   "execution_count": 3,
   "id": "b9734133",
   "metadata": {},
   "outputs": [
    {
     "data": {
      "text/plain": [
       "(1205, 26)"
      ]
     },
     "execution_count": 3,
     "metadata": {},
     "output_type": "execute_result"
    }
   ],
   "source": [
    "data1.shape"
   ]
  },
  {
   "cell_type": "code",
   "execution_count": 4,
   "id": "3d55d92d",
   "metadata": {},
   "outputs": [
    {
     "data": {
      "text/plain": [
       "Moderate    625\n",
       "Low         480\n",
       "High        100\n",
       "Name: Adaptivity Level, dtype: int64"
      ]
     },
     "execution_count": 4,
     "metadata": {},
     "output_type": "execute_result"
    }
   ],
   "source": [
    "y.value_counts()"
   ]
  },
  {
   "cell_type": "code",
   "execution_count": 5,
   "id": "528a3cef",
   "metadata": {
    "scrolled": true
   },
   "outputs": [
    {
     "name": "stdout",
     "output_type": "stream",
     "text": [
      "<class 'pandas.core.frame.DataFrame'>\n",
      "RangeIndex: 1205 entries, 0 to 1204\n",
      "Data columns (total 26 columns):\n",
      " #   Column                           Non-Null Count  Dtype\n",
      "---  ------                           --------------  -----\n",
      " 0   Age                              1205 non-null   int64\n",
      " 1   Network Type                     1205 non-null   int64\n",
      " 2   Class Duration                   1205 non-null   int64\n",
      " 3   Gender_Boy                       1205 non-null   uint8\n",
      " 4   Gender_Girl                      1205 non-null   uint8\n",
      " 5   Education Level_College          1205 non-null   uint8\n",
      " 6   Education Level_School           1205 non-null   uint8\n",
      " 7   Education Level_University       1205 non-null   uint8\n",
      " 8   Institution Type_Government      1205 non-null   uint8\n",
      " 9   Institution Type_Non Government  1205 non-null   uint8\n",
      " 10  IT Student_No                    1205 non-null   uint8\n",
      " 11  IT Student_Yes                   1205 non-null   uint8\n",
      " 12  Location_No                      1205 non-null   uint8\n",
      " 13  Location_Yes                     1205 non-null   uint8\n",
      " 14  Load-shedding_High               1205 non-null   uint8\n",
      " 15  Load-shedding_Low                1205 non-null   uint8\n",
      " 16  Financial Condition_Mid          1205 non-null   uint8\n",
      " 17  Financial Condition_Poor         1205 non-null   uint8\n",
      " 18  Financial Condition_Rich         1205 non-null   uint8\n",
      " 19  Internet Type_Mobile Data        1205 non-null   uint8\n",
      " 20  Internet Type_Wifi               1205 non-null   uint8\n",
      " 21  Self Lms_No                      1205 non-null   uint8\n",
      " 22  Self Lms_Yes                     1205 non-null   uint8\n",
      " 23  Device_Computer                  1205 non-null   uint8\n",
      " 24  Device_Mobile                    1205 non-null   uint8\n",
      " 25  Device_Tab                       1205 non-null   uint8\n",
      "dtypes: int64(3), uint8(23)\n",
      "memory usage: 55.4 KB\n"
     ]
    }
   ],
   "source": [
    "data1.info()"
   ]
  },
  {
   "cell_type": "code",
   "execution_count": 6,
   "id": "79c0efbf",
   "metadata": {},
   "outputs": [],
   "source": [
    "# Load libraries\n",
    "from sklearn.svm import LinearSVC\n",
    "from sklearn.preprocessing import StandardScaler\n",
    "from sklearn.model_selection import train_test_split\n",
    "import numpy as np"
   ]
  },
  {
   "cell_type": "code",
   "execution_count": 7,
   "id": "dac37f1a",
   "metadata": {},
   "outputs": [],
   "source": [
    "# Split data to training and testing sets\n",
    "X_train, X_test, y_train, y_test = train_test_split(\n",
    "    data1, y, random_state=0, stratify=y)\n",
    "\n",
    "# Standardize features\n",
    "scaler = StandardScaler().fit(X_train)\n",
    "\n",
    "X_train_std = scaler.transform(X_train)\n",
    "X_test_std = scaler.transform(X_test)\n",
    "\n",
    "# Create support vector classifier\n",
    "svc = LinearSVC(C=1.0, max_iter=4000)\n",
    "\n",
    "# Train model\n",
    "model = svc.fit(X_train_std, y_train)"
   ]
  },
  {
   "cell_type": "code",
   "execution_count": 8,
   "id": "d2f5e802",
   "metadata": {},
   "outputs": [
    {
     "data": {
      "text/plain": [
       "0.6788079470198676"
      ]
     },
     "execution_count": 8,
     "metadata": {},
     "output_type": "execute_result"
    }
   ],
   "source": [
    "model.score(X_test_std, y_test)"
   ]
  },
  {
   "cell_type": "code",
   "execution_count": 9,
   "id": "159e74df",
   "metadata": {},
   "outputs": [],
   "source": [
    "from sklearn.svm import SVC # \"Support vector classifier\"\n",
    "clf = SVC(kernel='rbf', C=1000, gamma='scale')"
   ]
  },
  {
   "cell_type": "code",
   "execution_count": 10,
   "id": "27dca9de",
   "metadata": {},
   "outputs": [
    {
     "name": "stdout",
     "output_type": "stream",
     "text": [
      "Accuracy : 0.9072847682119205\n"
     ]
    }
   ],
   "source": [
    "clf.fit(X_train, y_train)\n",
    "score = clf.score(X_test, y_test)\n",
    "\n",
    "print('Accuracy : ' + str(score))"
   ]
  },
  {
   "cell_type": "code",
   "execution_count": 11,
   "id": "eac5812b",
   "metadata": {},
   "outputs": [
    {
     "name": "stdout",
     "output_type": "stream",
     "text": [
      "Wall time: 12.6 s\n"
     ]
    },
    {
     "data": {
      "text/plain": [
       "GridSearchCV(cv=5,\n",
       "             estimator=Pipeline(steps=[('pca',\n",
       "                                        PCA(n_components=25, random_state=0,\n",
       "                                            svd_solver='randomized',\n",
       "                                            whiten=True)),\n",
       "                                       ('svc', SVC(class_weight='balanced'))]),\n",
       "             param_grid={'svc__C': [0.1, 1.0, 5.0, 10.0, 50.0],\n",
       "                         'svc__gamma': [1, 0.1, 0.01, 0.001, 0.0001]})"
      ]
     },
     "execution_count": 11,
     "metadata": {},
     "output_type": "execute_result"
    }
   ],
   "source": [
    "from sklearn.svm import SVC\n",
    "from sklearn.decomposition import PCA\n",
    "from sklearn.pipeline import make_pipeline\n",
    "from sklearn.model_selection import GridSearchCV\n",
    "\n",
    "pca = PCA(n_components=25, whiten=True, \n",
    "          svd_solver='randomized',random_state=0)\n",
    "svc = SVC(kernel='rbf', class_weight='balanced')\n",
    "model = make_pipeline(pca, svc)\n",
    "\n",
    "\n",
    "param_grid = {'svc__C': [0.1, 1.0, 5.0, 10.0, 50.0],'svc__gamma': [1, 0.1, 0.01, 0.001, 0.0001]}\n",
    "\n",
    "\n",
    "\n",
    "grid = GridSearchCV(model, param_grid, cv=5, refit=True)\n",
    "%time grid.fit(X_train, y_train)"
   ]
  },
  {
   "cell_type": "code",
   "execution_count": 12,
   "id": "5b406e14",
   "metadata": {},
   "outputs": [
    {
     "name": "stdout",
     "output_type": "stream",
     "text": [
      "{'svc__C': 10.0, 'svc__gamma': 0.1}\n"
     ]
    }
   ],
   "source": [
    "print(grid.best_params_)"
   ]
  },
  {
   "cell_type": "code",
   "execution_count": 13,
   "id": "2a0eacf2",
   "metadata": {},
   "outputs": [
    {
     "data": {
      "text/plain": [
       "0.9172185430463576"
      ]
     },
     "execution_count": 13,
     "metadata": {},
     "output_type": "execute_result"
    }
   ],
   "source": [
    "from sklearn.neural_network import MLPClassifier\n",
    "from sklearn.preprocessing import Normalizer\n",
    "from sklearn.model_selection import train_test_split\n",
    "import numpy as np\n",
    "\n",
    "normalizer = Normalizer()\n",
    "\n",
    "# Standardize features\n",
    "X_norm = normalizer.fit_transform(data1)\n",
    "\n",
    "\n",
    "# Split data to training and testing sets\n",
    "X_train, X_test, y_train, y_test = train_test_split(X_norm, y, test_size=0.25,\n",
    "                                                    random_state=100, stratify=y)\n",
    "\n",
    "mlp = MLPClassifier(solver='lbfgs', random_state=0, hidden_layer_sizes=[50], max_iter=np.inf).fit(X_train, y_train)\n",
    "mlp.fit(X_train, y_train)\n",
    "mlp.score(X_test, y_test)"
   ]
  },
  {
   "cell_type": "code",
   "execution_count": 14,
   "id": "88ab78fd",
   "metadata": {},
   "outputs": [
    {
     "data": {
      "text/plain": [
       "0.8410596026490066"
      ]
     },
     "execution_count": 14,
     "metadata": {},
     "output_type": "execute_result"
    }
   ],
   "source": [
    "mlp2 = MLPClassifier(solver='lbfgs', random_state=0, hidden_layer_sizes=[50, 10], max_iter=np.inf)\n",
    "mlp2.fit(X_train, y_train)\n",
    "mlp2.score(X_test, y_test)"
   ]
  },
  {
   "cell_type": "code",
   "execution_count": 25,
   "id": "d86e410a",
   "metadata": {},
   "outputs": [
    {
     "name": "stdout",
     "output_type": "stream",
     "text": [
      "0.9105960264900662\n",
      "0.9238410596026491\n",
      "0.9139072847682119\n",
      "0.9205298013245033\n",
      "0.9172185430463576\n",
      "0.9139072847682119\n",
      "0.9172185430463576\n",
      "0.9105960264900662\n",
      "0.9205298013245033\n",
      "0.9271523178807947\n"
     ]
    }
   ],
   "source": [
    "for alpha in np.linspace(0.001, 0.011, 10):\n",
    "    mlp3 = MLPClassifier(solver='lbfgs', random_state=0, hidden_layer_sizes=[50, 50], alpha=alpha, max_iter=np.inf)\n",
    "    mlp3.fit(X_train, y_train)\n",
    "    print(mlp3.score(X_test, y_test))"
   ]
  },
  {
   "cell_type": "code",
   "execution_count": 32,
   "id": "be53bcf7",
   "metadata": {},
   "outputs": [
    {
     "data": {
      "text/plain": [
       "<matplotlib.colorbar.Colorbar at 0x1f801463088>"
      ]
     },
     "execution_count": 32,
     "metadata": {},
     "output_type": "execute_result"
    },
    {
     "data": {
      "image/png": "[encoded data removed]",
      "text/plain": [
       "<Figure size 432x288 with 2 Axes>"
      ]
     },
     "metadata": {
      "needs_background": "light"
     },
     "output_type": "display_data"
    }
   ],
   "source": [
    "from sklearn.decomposition import PCA \n",
    "from sklearn.preprocessing import OrdinalEncoder\n",
    "import matplotlib.pyplot as plt\n",
    "\n",
    "encoder = OrdinalEncoder()\n",
    "y= y.reshape(-1, 1)\n",
    "result = encoder.fit_transform(y)\n",
    "\n",
    "\n",
    "# Standardize features\n",
    "data_std = normalizer.fit_transform(data1)\n",
    "model = PCA(n_components=2)      \n",
    "model.fit(data_std)               \n",
    "X_2D = model.transform(data_std)   \n",
    "\n",
    "PCA1 = X_2D[:,0]; PCA2 = X_2D[:,1]\n",
    "plt.scatter(PCA1, PCA2, c=result, cmap=plt.cm.get_cmap('viridis', 3))\n",
    "plt.xlabel(\"PCA1\")\n",
    "plt.ylabel(\"PCA2\")\n",
    "plt.colorbar()"
   ]
  },
  {
   "cell_type": "code",
   "execution_count": 46,
   "id": "a57b3b9b",
   "metadata": {},
   "outputs": [
    {
     "data": {
      "text/plain": [
       "KMeans(n_clusters=3)"
      ]
     },
     "execution_count": 46,
     "metadata": {},
     "output_type": "execute_result"
    }
   ],
   "source": [
    "from sklearn.cluster import KMeans\n",
    "\n",
    "model = PCA(n_components=2)     \n",
    "model.fit(data_std)                \n",
    "# build the clustering model\n",
    "kmeans = KMeans(n_clusters=3)    ]\n",
    "kmeans.fit(X_2D)"
   ]
  },
  {
   "cell_type": "code",
   "execution_count": 56,
   "id": "4ddaf6b3",
   "metadata": {},
   "outputs": [
    {
     "data": {
      "text/plain": [
       "<matplotlib.colorbar.Colorbar at 0x1f802e2a2c8>"
      ]
     },
     "execution_count": 56,
     "metadata": {},
     "output_type": "execute_result"
    },
    {
     "data": {
      "image/png": "[encoded data removed]",
      "text/plain": [
       "<Figure size 576x396 with 2 Axes>"
      ]
     },
     "metadata": {},
     "output_type": "display_data"
    }
   ],
   "source": [
    "plt.style.use('seaborn')\n",
    "\n",
    "\n",
    "y_pred = kmeans.predict(X_2D)\n",
    "PCA1 = X_2D[:,0]; PCA2 = X_2D[:,1]\n",
    "\n",
    "markers=['o']\n",
    "\n",
    "plt.scatter(PCA1, PCA2, c=y_pred,\n",
    "            alpha=0.7, edgecolor='blue',\n",
    "            cmap=plt.cm.get_cmap('viridis',3))\n",
    "plt.xlabel(\"PCA1\")\n",
    "plt.ylabel(\"PCA2\")\n",
    "plt.colorbar()"
   ]
  }
 ],
 "metadata": {
  "kernelspec": {
   "display_name": "Python 3",
   "language": "python",
   "name": "python3"
  },
  "language_info": {
   "codemirror_mode": {
    "name": "ipython",
    "version": 3
   },
   "file_extension": ".py",
   "mimetype": "text/x-python",
   "name": "python",
   "nbconvert_exporter": "python",
   "pygments_lexer": "ipython3",
   "version": "3.7.11"
  }
 },
 "nbformat": 4,
 "nbformat_minor": 5
}
