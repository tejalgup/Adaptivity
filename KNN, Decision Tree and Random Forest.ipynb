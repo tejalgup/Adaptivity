{
 "cells": [
  {
   "cell_type": "code",
   "execution_count": 1,
   "id": "8325c220",
   "metadata": {},
   "outputs": [],
   "source": [
    "import pandas as pd\n",
    "import numpy as np\n",
    "\n",
    "data = pd.read_csv('online_adapt.csv')\n",
    "\n",
    "# Encode `Age` to integers, 1, 2, 3, 4, 5, 6.\n",
    "age_mapper = {'26-30':6, '21-25':5, '16-20':4, '11-15':3, '6-10':2, '1-5':1}\n",
    "age_t = data['Age'].replace(age_mapper)\n",
    "\n",
    "# Encode `Network Type` to integers, 2, 3, 4.\n",
    "net_mapper = {'2G':2, '3G':3, '4G':4}\n",
    "net_t = data['Network Type'].replace(net_mapper)\n",
    "\n",
    "# Encode `Class Duration` to integers, 0, 1, 2.\n",
    "class_mapper = {'0':0, '1-3':1, '3-6':2}\n",
    "class_t = data['Class Duration'].replace(class_mapper)\n",
    "\n",
    "# Replace `Age`, `Network Type`, `Class Duration` by their corresponding numeric versions.\n",
    "data['Age'] = age_t\n",
    "data['Network Type'] = net_t\n",
    "data['Class Duration'] = class_t"
   ]
  },
  {
   "cell_type": "code",
   "execution_count": 2,
   "id": "41acc6ee",
   "metadata": {},
   "outputs": [
    {
     "data": {
      "text/html": [
       "<div>\n",
       "<style scoped>\n",
       "    .dataframe tbody tr th:only-of-type {\n",
       "        vertical-align: middle;\n",
       "    }\n",
       "\n",
       "    .dataframe tbody tr th {\n",
       "        vertical-align: top;\n",
       "    }\n",
       "\n",
       "    .dataframe thead th {\n",
       "        text-align: right;\n",
       "    }\n",
       "</style>\n",
       "<table border=\"1\" class=\"dataframe\">\n",
       "  <thead>\n",
       "    <tr style=\"text-align: right;\">\n",
       "      <th></th>\n",
       "      <th>Age</th>\n",
       "      <th>Network Type</th>\n",
       "      <th>Class Duration</th>\n",
       "      <th>Gender_Boy</th>\n",
       "      <th>Gender_Girl</th>\n",
       "      <th>Education Level_College</th>\n",
       "      <th>Education Level_School</th>\n",
       "      <th>Education Level_University</th>\n",
       "      <th>Institution Type_Government</th>\n",
       "      <th>Institution Type_Non Government</th>\n",
       "      <th>...</th>\n",
       "      <th>Financial Condition_Mid</th>\n",
       "      <th>Financial Condition_Poor</th>\n",
       "      <th>Financial Condition_Rich</th>\n",
       "      <th>Internet Type_Mobile Data</th>\n",
       "      <th>Internet Type_Wifi</th>\n",
       "      <th>Self Lms_No</th>\n",
       "      <th>Self Lms_Yes</th>\n",
       "      <th>Device_Computer</th>\n",
       "      <th>Device_Mobile</th>\n",
       "      <th>Device_Tab</th>\n",
       "    </tr>\n",
       "  </thead>\n",
       "  <tbody>\n",
       "    <tr>\n",
       "      <th>0</th>\n",
       "      <td>5</td>\n",
       "      <td>4</td>\n",
       "      <td>2</td>\n",
       "      <td>1</td>\n",
       "      <td>0</td>\n",
       "      <td>0</td>\n",
       "      <td>0</td>\n",
       "      <td>1</td>\n",
       "      <td>0</td>\n",
       "      <td>1</td>\n",
       "      <td>...</td>\n",
       "      <td>1</td>\n",
       "      <td>0</td>\n",
       "      <td>0</td>\n",
       "      <td>0</td>\n",
       "      <td>1</td>\n",
       "      <td>1</td>\n",
       "      <td>0</td>\n",
       "      <td>0</td>\n",
       "      <td>0</td>\n",
       "      <td>1</td>\n",
       "    </tr>\n",
       "    <tr>\n",
       "      <th>1</th>\n",
       "      <td>5</td>\n",
       "      <td>4</td>\n",
       "      <td>1</td>\n",
       "      <td>0</td>\n",
       "      <td>1</td>\n",
       "      <td>0</td>\n",
       "      <td>0</td>\n",
       "      <td>1</td>\n",
       "      <td>0</td>\n",
       "      <td>1</td>\n",
       "      <td>...</td>\n",
       "      <td>1</td>\n",
       "      <td>0</td>\n",
       "      <td>0</td>\n",
       "      <td>1</td>\n",
       "      <td>0</td>\n",
       "      <td>0</td>\n",
       "      <td>1</td>\n",
       "      <td>0</td>\n",
       "      <td>1</td>\n",
       "      <td>0</td>\n",
       "    </tr>\n",
       "  </tbody>\n",
       "</table>\n",
       "<p>2 rows × 26 columns</p>\n",
       "</div>"
      ],
      "text/plain": [
       "   Age  Network Type  Class Duration  Gender_Boy  Gender_Girl  \\\n",
       "0    5             4               2           1            0   \n",
       "1    5             4               1           0            1   \n",
       "\n",
       "   Education Level_College  Education Level_School  \\\n",
       "0                        0                       0   \n",
       "1                        0                       0   \n",
       "\n",
       "   Education Level_University  Institution Type_Government  \\\n",
       "0                           1                            0   \n",
       "1                           1                            0   \n",
       "\n",
       "   Institution Type_Non Government  ...  Financial Condition_Mid  \\\n",
       "0                                1  ...                        1   \n",
       "1                                1  ...                        1   \n",
       "\n",
       "   Financial Condition_Poor  Financial Condition_Rich  \\\n",
       "0                         0                         0   \n",
       "1                         0                         0   \n",
       "\n",
       "   Internet Type_Mobile Data  Internet Type_Wifi  Self Lms_No  Self Lms_Yes  \\\n",
       "0                          0                   1            1             0   \n",
       "1                          1                   0            0             1   \n",
       "\n",
       "   Device_Computer  Device_Mobile  Device_Tab  \n",
       "0                0              0           1  \n",
       "1                0              1           0  \n",
       "\n",
       "[2 rows x 26 columns]"
      ]
     },
     "execution_count": 2,
     "metadata": {},
     "output_type": "execute_result"
    }
   ],
   "source": [
    "# One-hot encode the rest of the variables except for the response variable, `Adaptivity Level`.\n",
    "\n",
    "y = data['Adaptivity Level']\n",
    "data1 = pd.get_dummies(data.drop('Adaptivity Level', axis=1))\n",
    "data1.head(2)"
   ]
  },
  {
   "cell_type": "code",
   "execution_count": 3,
   "id": "99377a07",
   "metadata": {},
   "outputs": [
    {
     "data": {
      "text/plain": [
       "(1205, 26)"
      ]
     },
     "execution_count": 3,
     "metadata": {},
     "output_type": "execute_result"
    }
   ],
   "source": [
    "data1.shape"
   ]
  },
  {
   "cell_type": "code",
   "execution_count": 4,
   "id": "bffcc967",
   "metadata": {},
   "outputs": [
    {
     "name": "stdout",
     "output_type": "stream",
     "text": [
      "Test set accuracy: 0.91\n"
     ]
    }
   ],
   "source": [
    "# Load libraries\n",
    "from sklearn.neighbors import KNeighborsClassifier\n",
    "from sklearn import datasets\n",
    "from sklearn.preprocessing import StandardScaler\n",
    "from sklearn.pipeline import Pipeline, FeatureUnion\n",
    "from sklearn.model_selection import GridSearchCV\n",
    "from sklearn.model_selection import train_test_split\n",
    "from sklearn.preprocessing import Normalizer\n",
    "\n",
    "# Create standardizer\n",
    "standardizer = StandardScaler()\n",
    "\n",
    "# Standardize features\n",
    "feature_std = standardizer.fit_transform(data1)\n",
    "\n",
    "# spliting\n",
    "X_train, X_test, y_train, y_test = train_test_split(feature_std, y, test_size=0.25, random_state=100, stratify=y)\n",
    "\n",
    "# Create a scaler\n",
    "normalizer = Normalizer()\n",
    "\n",
    "# Scale features\n",
    "X_train_norm = normalizer.fit_transform(X_train)\n",
    "X_test_norm = normalizer.fit_transform(X_test)\n",
    "\n",
    "# Fit the scaler\n",
    "X_train_sc = standardizer.fit_transform(X_train_norm)\n",
    "X_test_sc = standardizer.fit_transform(X_test_norm)\n",
    "\n",
    "# Train a KNN classifier with 5 neighbors\n",
    "knn5 = KNeighborsClassifier(n_neighbors=5, n_jobs=-1)\n",
    "knn5.fit(feature_std,y) \n",
    "\n",
    "# Create a pipeline\n",
    "pipe = Pipeline([(\"standardizer\", standardizer), (\"knn\", knn5)])\n",
    "\n",
    "# Create space of candidate values\n",
    "search_space = [{\"knn__n_neighbors\": [1, 2, 3, 4, 5, 6, 7, 8, 9, 10]}]\n",
    "\n",
    "# Create grid search\n",
    "classifier = GridSearchCV(\n",
    "    pipe, search_space, cv=5, verbose=0).fit(X_train_sc, y_train)\n",
    "\n",
    "print(\"Test set accuracy: {:.2f}\".format(knn5.score(X_test_sc,y_test)))"
   ]
  },
  {
   "cell_type": "code",
   "execution_count": 5,
   "id": "f8a7e1d6",
   "metadata": {},
   "outputs": [
    {
     "name": "stdout",
     "output_type": "stream",
     "text": [
      "Test set accuracy: 0.89\n"
     ]
    }
   ],
   "source": [
    "print(\"Test set accuracy: {:.2f}\".format(knn5.score(X_train_sc, y_train)))"
   ]
  },
  {
   "cell_type": "code",
   "execution_count": 6,
   "id": "4eecb2f0",
   "metadata": {},
   "outputs": [],
   "source": [
    "# Load libraries\n",
    "from sklearn.neighbors import RadiusNeighborsClassifier\n",
    "\n",
    "# Split data to training and testing sets\n",
    "X_train, X_test, y_train, y_test = train_test_split(data1, y, test_size=0.25,\n",
    "                                                    random_state=100,stratify=y)\n",
    "\n",
    "# Create a scaler\n",
    "normalizer = Normalizer()\n",
    "\n",
    "# Standardize features\n",
    "X_train_norm = normalizer.fit_transform(X_train)\n",
    "X_test_norm = normalizer.fit_transform(X_test)\n"
   ]
  },
  {
   "cell_type": "code",
   "execution_count": 19,
   "id": "08453a4c",
   "metadata": {},
   "outputs": [],
   "source": [
    "# Define a RNN classifier\n",
    "rnn = RadiusNeighborsClassifier(outlier_label='most_frequent') \n",
    "\n",
    "# Create a pipeline\n",
    "pipe = Pipeline([(\"normalizer\", normalizer), (\"rnn\", rnn)])\n",
    "\n",
    "# Create space of candidate values\n",
    "SearchSpace=[{'rnn__radius': np.arange(0.01, 2, .5) }]\n",
    "# There are two '_' after 'rnn'\n",
    "\n",
    "# Create grid search\n",
    "classifier = GridSearchCV(\n",
    "    pipe, SearchSpace, cv=10, verbose=0).fit(X_train, y_train)\n"
   ]
  },
  {
   "cell_type": "code",
   "execution_count": 21,
   "id": "0e514c09",
   "metadata": {},
   "outputs": [
    {
     "data": {
      "text/plain": [
       "<matplotlib.legend.Legend at 0x2278860c108>"
      ]
     },
     "execution_count": 21,
     "metadata": {},
     "output_type": "execute_result"
    },
    {
     "data": {
      "image/png": "[encoded data removed]",
      "text/plain": [
       "<Figure size 432x288 with 1 Axes>"
      ]
     },
     "metadata": {
      "needs_background": "light"
     },
     "output_type": "display_data"
    }
   ],
   "source": [
    "import matplotlib.pyplot as plt\n",
    "%matplotlib inline\n",
    "\n",
    "\n",
    "# try radius from 0.01 to 2\n",
    "radius = np.arange(0.01, 2, 0.5)\n",
    "\n",
    "training_accuracy = []\n",
    "test_accuracy = []\n",
    "\n",
    "for r in radius:\n",
    "    # build the model\n",
    "    rnn = RadiusNeighborsClassifier(radius=r,outlier_label='most_frequent')\n",
    "    rnn.fit(X_train, y_train)\n",
    "    # record training set accuracy\n",
    "    training_accuracy.append(rnn.score(X_train, y_train))\n",
    "    # record generalization accuracy\n",
    "    test_accuracy.append(rnn.score(X_test, y_test))\n",
    "\n",
    "plt.plot(radius, training_accuracy, label=\"training accuracy\")\n",
    "plt.plot(radius, test_accuracy, label=\"test accuracy\")\n",
    "plt.ylabel(\"Accuracy\")\n",
    "plt.xlabel(\"radius\")\n",
    "plt.legend()"
   ]
  },
  {
   "cell_type": "code",
   "execution_count": 23,
   "id": "0e37e616",
   "metadata": {},
   "outputs": [
    {
     "data": {
      "text/plain": [
       "0.9139072847682119"
      ]
     },
     "execution_count": 23,
     "metadata": {},
     "output_type": "execute_result"
    }
   ],
   "source": [
    "rnn_final = RadiusNeighborsClassifier(radius=0.5,outlier_label='most_frequent').fit(X_train,y_train)\n",
    "rnn_final.score(X_test,y_test)"
   ]
  },
  {
   "cell_type": "code",
   "execution_count": 34,
   "id": "f3a510fe",
   "metadata": {},
   "outputs": [
    {
     "data": {
      "text/plain": [
       "DecisionTreeClassifier(max_depth=2)"
      ]
     },
     "execution_count": 34,
     "metadata": {},
     "output_type": "execute_result"
    }
   ],
   "source": [
    "from sklearn.tree import DecisionTreeClassifier\n",
    "\n",
    "# spliting\n",
    "X_train, X_test, y_train, y_test = train_test_split(data1, y, test_size=0.25, random_state=100, stratify=y)\n",
    "\n",
    "# Instantiate the decision tree\n",
    "tree_clf = DecisionTreeClassifier(max_depth=2)\n",
    "\n",
    "# Train the decision tree\n",
    "tree_clf.fit(data1,y)\n"
   ]
  },
  {
   "cell_type": "code",
   "execution_count": 35,
   "id": "6d94ddbb",
   "metadata": {},
   "outputs": [
    {
     "name": "stdout",
     "output_type": "stream",
     "text": [
      "0.9302325581395349\n",
      "0.9139072847682119\n"
     ]
    }
   ],
   "source": [
    "X_train, X_test, y_train, y_test = train_test_split(\n",
    "    data1, y, random_state=0)\n",
    "\n",
    "tree_clf = DecisionTreeClassifier(random_state=100)\n",
    "tree_clf.fit(data1,y)\n",
    "\n",
    "tree_clf.fit(X_train,y_train)\n",
    "\n",
    "print(tree_clf.score(X_train, y_train))\n",
    "print(tree_clf.score(X_test, y_test))"
   ]
  },
  {
   "cell_type": "code",
   "execution_count": 36,
   "id": "6ce04785",
   "metadata": {},
   "outputs": [
    {
     "name": "stdout",
     "output_type": "stream",
     "text": [
      "0.9302325581395349\n",
      "0.9205298013245033\n"
     ]
    }
   ],
   "source": [
    "X_train, X_test, y_train, y_test = train_test_split(\n",
    "    data1, y, random_state=0)\n",
    "\n",
    "tree_clf1 = DecisionTreeClassifier(random_state=100, max_features=3)\n",
    "tree_clf1.fit(data1,y)\n",
    "\n",
    "tree_clf1.fit(X_train,y_train)\n",
    "\n",
    "print(tree_clf1.score(X_train, y_train))\n",
    "print(tree_clf1.score(X_test, y_test))"
   ]
  },
  {
   "cell_type": "code",
   "execution_count": 37,
   "id": "e81400d1",
   "metadata": {},
   "outputs": [
    {
     "name": "stdout",
     "output_type": "stream",
     "text": [
      "0.8250276854928018\n",
      "0.7947019867549668\n"
     ]
    }
   ],
   "source": [
    "X_train, X_test, y_train, y_test = train_test_split(\n",
    "    data1, y, random_state=0)\n",
    "\n",
    "tree_clf1 = DecisionTreeClassifier(random_state=100, min_samples_leaf=5)\n",
    "tree_clf1.fit(data1,y)\n",
    "\n",
    "tree_clf1.fit(X_train,y_train)\n",
    "\n",
    "print(tree_clf1.score(X_train, y_train))\n",
    "print(tree_clf1.score(X_test, y_test))"
   ]
  },
  {
   "cell_type": "code",
   "execution_count": 44,
   "id": "e3a760a5",
   "metadata": {},
   "outputs": [
    {
     "name": "stdout",
     "output_type": "stream",
     "text": [
      "Accuracy on training set: 0.929\n",
      "Accuracy on test set: 0.907\n"
     ]
    }
   ],
   "source": [
    "# Load libraries\n",
    "from sklearn.ensemble import RandomForestClassifier\n",
    "\n",
    "# spliting\n",
    "X_train, X_test, y_train, y_test = train_test_split(data1, y, test_size=0.25, random_state=100, stratify=y)\n",
    "# Create a random forest classifier\n",
    "forest = RandomForestClassifier(n_estimators=10, random_state= 100, n_jobs=-1)\n",
    "# Train model\n",
    "model_forest = forest.fit(X_train, y_train)\n",
    "\n",
    "print(\"Accuracy on training set: {:.3f}\".format(model_forest.score(X_train, y_train)))\n",
    "print(\"Accuracy on test set: {:.3f}\".format(model_forest.score(X_test, y_test)))"
   ]
  },
  {
   "cell_type": "code",
   "execution_count": 45,
   "id": "313d9582",
   "metadata": {},
   "outputs": [
    {
     "name": "stdout",
     "output_type": "stream",
     "text": [
      "Accuracy on training set: 0.930\n",
      "Accuracy on test set: 0.907\n"
     ]
    }
   ],
   "source": [
    "# Create random forest classifier object using entropy\n",
    "randomforest_entropy = RandomForestClassifier(\n",
    "    n_estimators=100, criterion=\"entropy\", random_state=100)\n",
    "\n",
    "# Train model\n",
    "model_forest2 = randomforest_entropy.fit(X_train, y_train)\n",
    "\n",
    "print(\"Accuracy on training set: {:.3f}\".format(model_forest2.score(X_train, y_train)))\n",
    "print(\"Accuracy on test set: {:.3f}\".format(model_forest2.score(X_test, y_test)))\n",
    "\n",
    "#training set accuracy increases by a little"
   ]
  },
  {
   "cell_type": "code",
   "execution_count": 47,
   "id": "bf7a1817",
   "metadata": {},
   "outputs": [
    {
     "name": "stdout",
     "output_type": "stream",
     "text": [
      "Accuracy on training set: 0.930\n",
      "Accuracy on test set: 0.907\n"
     ]
    }
   ],
   "source": [
    "# Create random forest classifier object using entropy\n",
    "randomforest_entropy = RandomForestClassifier(\n",
    "    n_estimators=1000, criterion=\"entropy\", random_state=100)\n",
    "\n",
    "# Train model\n",
    "model_forest3 = randomforest_entropy.fit(X_train, y_train)\n",
    "\n",
    "print(\"Accuracy on training set: {:.3f}\".format(model_forest3.score(X_train, y_train)))\n",
    "print(\"Accuracy on test set: {:.3f}\".format(model_forest3.score(X_test, y_test)))\n",
    "#no change in accuracies"
   ]
  },
  {
   "cell_type": "code",
   "execution_count": 51,
   "id": "5737e964",
   "metadata": {},
   "outputs": [
    {
     "name": "stdout",
     "output_type": "stream",
     "text": [
      "Accuracy on training set: 0.930\n",
      "Accuracy on test set: 0.907\n"
     ]
    }
   ],
   "source": [
    "# Create random forest classifier object using entropy\n",
    "randomforest_entropy = RandomForestClassifier(\n",
    "    n_estimators=1000, criterion=\"entropy\", random_state=100, max_features=10)\n",
    "\n",
    "# Train model\n",
    "model_forest4 = randomforest_entropy.fit(X_train, y_train)\n",
    "\n",
    "print(\"Accuracy on training set: {:.3f}\".format(model_forest4.score(X_train, y_train)))\n",
    "print(\"Accuracy on test set: {:.3f}\".format(model_forest4.score(X_test, y_test)))\n",
    "#still no change in accuracies"
   ]
  },
  {
   "cell_type": "code",
   "execution_count": 52,
   "id": "d6105e40",
   "metadata": {},
   "outputs": [
    {
     "name": "stdout",
     "output_type": "stream",
     "text": [
      "Age 0.11179229451901736\n",
      "Network Type 0.06143552248288995\n",
      "Class Duration 0.1539240502064682\n",
      "Gender_Boy 0.04072142459040178\n",
      "Gender_Girl 0.04391639157543491\n",
      "Education Level_College 0.029013244719931962\n",
      "Education Level_School 0.03164850754040895\n",
      "Education Level_University 0.036773118929744456\n",
      "Institution Type_Government 0.03269000540228198\n",
      "Institution Type_Non Government 0.03211991043439703\n",
      "IT Student_No 0.030310386320620025\n",
      "IT Student_Yes 0.025301214464234122\n",
      "Location_No 0.0179063133710967\n",
      "Location_Yes 0.044847170708226095\n",
      "Load-shedding_High 0.0178865504099417\n",
      "Load-shedding_Low 0.023563569104187616\n",
      "Financial Condition_Mid 0.04267715935262984\n",
      "Financial Condition_Poor 0.02248969578226639\n",
      "Financial Condition_Rich 0.03462060873916863\n",
      "Internet Type_Mobile Data 0.0311495423892146\n",
      "Internet Type_Wifi 0.03144317984724977\n",
      "Self Lms_No 0.03574374439124135\n",
      "Self Lms_Yes 0.020148154123328276\n",
      "Device_Computer 0.01735874896275109\n",
      "Device_Mobile 0.026319370023346483\n",
      "Device_Tab 0.0042001216095206685\n"
     ]
    }
   ],
   "source": [
    "for name, score in zip(data1.columns, model_forest.feature_importances_):\n",
    "    print(name, score)"
   ]
  }
 ],
 "metadata": {
  "kernelspec": {
   "display_name": "Python 3",
   "language": "python",
   "name": "python3"
  },
  "language_info": {
   "codemirror_mode": {
    "name": "ipython",
    "version": 3
   },
   "file_extension": ".py",
   "mimetype": "text/x-python",
   "name": "python",
   "nbconvert_exporter": "python",
   "pygments_lexer": "ipython3",
   "version": "3.7.11"
  }
 },
 "nbformat": 4,
 "nbformat_minor": 5
}
